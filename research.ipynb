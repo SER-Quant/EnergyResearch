{
 "cells": [
  {
   "cell_type": "code",
   "execution_count": null,
   "metadata": {},
   "outputs": [],
   "source": [
    "import pandas as pd\n",
    "import numpy as np\n",
    "import matplotlib.pyplot as pit"
   ]
  },
  {
   "cell_type": "code",
   "execution_count": null,
   "metadata": {},
   "outputs": [],
   "source": [
    "qb = QuantBook()"
   ]
  },
  {
   "cell_type": "code",
   "execution_count": null,
   "metadata": {},
   "outputs": [],
   "source": [
    "crude_oil = qb.AddFuture(Futures.Energies.CrudeOilWTI)\n",
    "\n",
    "# Get the historical data for the last 15 days\n",
    "history_15_days = qb.History(crude_oil.Symbol, 15, Resolution.Daily)\n",
    "\n",
    "# Get the historical data for the last 30 days\n",
    "history_30_days = qb.History(crude_oil.Symbol, 30, Resolution.Daily)\n",
    "\n",
    "# Calculate the price change for the last 15 days\n",
    "if len(history_15_days) == 15:\n",
    "    price_change_15_days = history_15_days['close'].iloc[-1] - history_15_days['close'].iloc[0]\n",
    "    print(f\"The price change of Crude Oil for the last 15 days is: {price_change_15_days}\")\n",
    "\n",
    "# Calculate the price change for the last 30 days\n",
    "if len(history_30_days) == 30:\n",
    "    price_change_30_days = history_30_days['close'].iloc[-1] - history_30_days['close'].iloc[0]\n",
    "    print(f\"The price change of Crude Oil for the last 30 days is: {price_change_30_days}\")\n",
    "\n",
    "if price_change_15_days - price_change_30_days > 0:\n",
    "    print(\"going up\")\n",
    "else:\n",
    "    print(\"going down\")\n"
   ]
  },
  {
   "cell_type": "code",
   "execution_count": null,
   "metadata": {},
   "outputs": [],
   "source": [
    "assets = [\n",
    "    \"XOM\" ,\n",
    "    \"CVX\" ,\n",
    "    \"SHEL\",\n",
    "    \"TTE\",\n",
    "    \"COP\",\n",
    "    \"NEE\",\n",
    "    \"HK\",\n",
    "    \"BP\",\n",
    "]\n",
    "symbols = [\n",
    "    qb.add_equity(ticker, Resolution.DAILY).symbol\n",
    "    for ticker in assets\n",
    "]\n",
    "\n",
    "for symbol in symbols:\n",
    "    history = qb.History(symbol, 15, Resolution.Daily)\n",
    "\n",
    "stocks = history['close']"
   ]
  },
  {
   "cell_type": "code",
   "execution_count": null,
   "metadata": {},
   "outputs": [],
   "source": [
    "history_year = qb.History(crude_oil.Symbol, 15, Resolution.Daily)\n",
    "\n",
    "resampled_history = history_year['close']\n",
    "\n",
    "resampled_history.diff()"
   ]
  },
  {
   "cell_type": "code",
   "execution_count": null,
   "metadata": {},
   "outputs": [],
   "source": [
    "df = pd.DataFrame({\"oil history\": resampled_history.diff()})\n",
    "\n",
    "\n",
    "\n",
    "\n",
    "#history.plot(title='change in oil stock prices over time', figsize=(15, 8))"
   ]
  }
 ],
 "metadata": {
  "language_info": {
   "name": "python"
  }
 },
 "nbformat": 4,
 "nbformat_minor": 2
}
